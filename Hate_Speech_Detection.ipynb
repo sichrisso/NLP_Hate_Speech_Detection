{
  "cells": [
    {
      "cell_type": "markdown",
      "metadata": {
        "id": "TNy319Om5eIG"
      },
      "source": [
        "# Libraries"
      ]
    },
    {
      "cell_type": "code",
      "execution_count": 1,
      "metadata": {
        "id": "JVMS9Kjb73Kw"
      },
      "outputs": [
        {
          "name": "stderr",
          "output_type": "stream",
          "text": [
            "/Users/christinahailu/Library/Python/3.9/lib/python/site-packages/urllib3/__init__.py:34: NotOpenSSLWarning: urllib3 v2 only supports OpenSSL 1.1.1+, currently the 'ssl' module is compiled with 'LibreSSL 2.8.3'. See: https://github.com/urllib3/urllib3/issues/3020\n",
            "  warnings.warn(\n"
          ]
        }
      ],
      "source": [
        "import numpy as np\n",
        "import pandas as pd\n",
        "import plotly.express as px\n",
        "import nltk\n",
        "import tensorflow as tf\n",
        "from tensorflow.keras import regularizers\n",
        "import keras\n",
        "from keras.preprocessing.sequence import pad_sequences\n",
        "from keras.preprocessing.text import Tokenizer\n",
        "from keras.activations import *\n",
        "\n",
        "from tensorflow.keras.models import Sequential\n",
        "from tensorflow.keras.layers import Embedding, Dense, Flatten, Dropout\n",
        "from tensorflow.keras.layers import Conv1D, GlobalMaxPooling1D\n",
        "\n",
        "from gensim.models import Word2Vec\n",
        "from sklearn.model_selection import train_test_split\n",
        "from sklearn.preprocessing import LabelEncoder"
      ]
    },
    {
      "cell_type": "markdown",
      "metadata": {
        "id": "bGw1R6JE5eIh"
      },
      "source": [
        "# Read the posts and their labels"
      ]
    },
    {
      "cell_type": "code",
      "execution_count": 2,
      "metadata": {
        "id": "dY0-_uba5eIi"
      },
      "outputs": [],
      "source": [
        "# Read the dataset\n",
        "posts = pd.read_csv(\"Posts.txt\", header=None)\n",
        "labels = pd.read_csv(\"Labels.txt\", header=None)\n",
        "posts.columns = ['post']\n",
        "labels.columns = ['labels']\n",
        "\n",
        "labels = labels.replace('Free ', 'Free')  # Correcting labels with additional white space"
      ]
    },
    {
      "cell_type": "markdown",
      "metadata": {
        "id": "vvubfW7W5eIj"
      },
      "source": [
        "# Check the length of sentences\n",
        "## Concatenate the posts with their labels"
      ]
    },
    {
      "cell_type": "code",
      "execution_count": 3,
      "metadata": {
        "id": "USr_qR3F5eIk"
      },
      "outputs": [],
      "source": [
        "# Add the number of words in each sentence as one feature\n",
        "posts['Num_words'] = posts['post'].apply(lambda x:len(str(x).split()))\n",
        "# Concatenate the posts with their labels to keep changes to come consistent\n",
        "posts = pd.concat([posts, labels], axis=1)"
      ]
    },
    {
      "cell_type": "markdown",
      "metadata": {
        "id": "_Y_YoPXf5eIm"
      },
      "source": [
        "# Check the existence of sentences with single words"
      ]
    },
    {
      "cell_type": "code",
      "execution_count": 4,
      "metadata": {
        "colab": {
          "base_uri": "https://localhost:8080/",
          "height": 206
        },
        "id": "mSR0ozn-5eIn",
        "outputId": "249ca279-5a59-446e-ff67-f152380089e7"
      },
      "outputs": [
        {
          "data": {
            "text/html": [
              "<div>\n",
              "<style scoped>\n",
              "    .dataframe tbody tr th:only-of-type {\n",
              "        vertical-align: middle;\n",
              "    }\n",
              "\n",
              "    .dataframe tbody tr th {\n",
              "        vertical-align: top;\n",
              "    }\n",
              "\n",
              "    .dataframe thead th {\n",
              "        text-align: right;\n",
              "    }\n",
              "</style>\n",
              "<table border=\"1\" class=\"dataframe\">\n",
              "  <thead>\n",
              "    <tr style=\"text-align: right;\">\n",
              "      <th></th>\n",
              "      <th>post</th>\n",
              "      <th>Num_words</th>\n",
              "      <th>labels</th>\n",
              "    </tr>\n",
              "  </thead>\n",
              "  <tbody>\n",
              "    <tr>\n",
              "      <th>140</th>\n",
              "      <td>ዘርእየጠራንከምንወቃቀስሁሉምየጌታፍጥረቶችናቸውአሁንበቃንእንፀልይ</td>\n",
              "      <td>1</td>\n",
              "      <td>Free</td>\n",
              "    </tr>\n",
              "    <tr>\n",
              "      <th>334</th>\n",
              "      <td>ሰማእታት</td>\n",
              "      <td>1</td>\n",
              "      <td>Free</td>\n",
              "    </tr>\n",
              "    <tr>\n",
              "      <th>412</th>\n",
              "      <td>እግዚአብሄርሆይምረቱንላክልን</td>\n",
              "      <td>1</td>\n",
              "      <td>Free</td>\n",
              "    </tr>\n",
              "    <tr>\n",
              "      <th>806</th>\n",
              "      <td>ጋላየውገኑንብልእትቆርጦእናየብልእትቋንጣይዞየሜዞእርእሳርያልበላከብትእራሱጋ...</td>\n",
              "      <td>1</td>\n",
              "      <td>Free</td>\n",
              "    </tr>\n",
              "    <tr>\n",
              "      <th>833</th>\n",
              "      <td>እኔየሚገርመኝአሁንእድህየሚሆኑትምንለመሆንነዉ</td>\n",
              "      <td>1</td>\n",
              "      <td>Hate</td>\n",
              "    </tr>\n",
              "  </tbody>\n",
              "</table>\n",
              "</div>"
            ],
            "text/plain": [
              "                                                  post  Num_words labels\n",
              "140           ዘርእየጠራንከምንወቃቀስሁሉምየጌታፍጥረቶችናቸውአሁንበቃንእንፀልይ           1   Free\n",
              "334                                             ሰማእታት           1   Free\n",
              "412                                  እግዚአብሄርሆይምረቱንላክልን          1   Free\n",
              "806   ጋላየውገኑንብልእትቆርጦእናየብልእትቋንጣይዞየሜዞእርእሳርያልበላከብትእራሱጋ...          1   Free\n",
              "833                        እኔየሚገርመኝአሁንእድህየሚሆኑትምንለመሆንነዉ          1   Hate"
            ]
          },
          "execution_count": 4,
          "metadata": {},
          "output_type": "execute_result"
        }
      ],
      "source": [
        "# Extract sentence containing words with no spaces\n",
        "single_words = posts['Num_words'] < 2\n",
        "small_sentences = posts[single_words]\n",
        "small_sentences.head()"
      ]
    },
    {
      "cell_type": "code",
      "execution_count": 5,
      "metadata": {
        "id": "fn2CqeyI5eIt"
      },
      "outputs": [
        {
          "name": "stdout",
          "output_type": "stream",
          "text": [
            "421\n"
          ]
        }
      ],
      "source": [
        "# Not to be run, for checking the sentences with one word only\n",
        "leng = []\n",
        "one_word = []\n",
        "for word in small_sentences['post']:\n",
        "    leng.append(len(word))\n",
        "    if len(word) < 10:\n",
        "        one_word.append(word)\n",
        "\n",
        "print(len(one_word))\n",
        "longest = np.array(leng).max()"
      ]
    },
    {
      "cell_type": "markdown",
      "metadata": {
        "id": "c_rLhHHB5eIv"
      },
      "source": [
        "## Remove single word sentences"
      ]
    },
    {
      "cell_type": "code",
      "execution_count": 6,
      "metadata": {
        "colab": {
          "base_uri": "https://localhost:8080/",
          "height": 224
        },
        "id": "H2hc2bFu5eIw",
        "outputId": "001cd34d-8f5c-4bf6-a043-2eb95f7012a7"
      },
      "outputs": [
        {
          "name": "stdout",
          "output_type": "stream",
          "text": [
            "(29463, 3)\n"
          ]
        },
        {
          "data": {
            "text/html": [
              "<div>\n",
              "<style scoped>\n",
              "    .dataframe tbody tr th:only-of-type {\n",
              "        vertical-align: middle;\n",
              "    }\n",
              "\n",
              "    .dataframe tbody tr th {\n",
              "        vertical-align: top;\n",
              "    }\n",
              "\n",
              "    .dataframe thead th {\n",
              "        text-align: right;\n",
              "    }\n",
              "</style>\n",
              "<table border=\"1\" class=\"dataframe\">\n",
              "  <thead>\n",
              "    <tr style=\"text-align: right;\">\n",
              "      <th></th>\n",
              "      <th>post</th>\n",
              "      <th>Num_words</th>\n",
              "      <th>labels</th>\n",
              "    </tr>\n",
              "  </thead>\n",
              "  <tbody>\n",
              "    <tr>\n",
              "      <th>0</th>\n",
              "      <td>አስቀድሜ ጥያቄዬ በጨዋነት በውስጥ መስመር እንዲደርስዎ አድርጌ ፍትህን ለ...</td>\n",
              "      <td>63</td>\n",
              "      <td>Free</td>\n",
              "    </tr>\n",
              "    <tr>\n",
              "      <th>1</th>\n",
              "      <td>እነዚህን ወሳኝ ጉዳዮችን የሚያስፈፅም አካል እንዲቋቋምና ክትትል እንዲደ...</td>\n",
              "      <td>10</td>\n",
              "      <td>Free</td>\n",
              "    </tr>\n",
              "    <tr>\n",
              "      <th>2</th>\n",
              "      <td>የአማራ ህዝብ በአእምሮ ክንፉ ያልበረረበት ጥበብና ፍልስፍና ያልከፈተው የ...</td>\n",
              "      <td>19</td>\n",
              "      <td>Free</td>\n",
              "    </tr>\n",
              "    <tr>\n",
              "      <th>3</th>\n",
              "      <td>ከአማራ ህዝብ የሀገሪቱ ዘርፈ ብዙ እውቀት መንጭቶ የሞላበትከሙላቱም በመል...</td>\n",
              "      <td>23</td>\n",
              "      <td>Free</td>\n",
              "    </tr>\n",
              "    <tr>\n",
              "      <th>4</th>\n",
              "      <td>ዛሬ በየትኛውም መለኪያ ይሁን መመዘኛ ኢትዮጵያዊነት የሚንፀባረቀው በአማራ...</td>\n",
              "      <td>25</td>\n",
              "      <td>Hate</td>\n",
              "    </tr>\n",
              "  </tbody>\n",
              "</table>\n",
              "</div>"
            ],
            "text/plain": [
              "                                                post  Num_words labels\n",
              "0  አስቀድሜ ጥያቄዬ በጨዋነት በውስጥ መስመር እንዲደርስዎ አድርጌ ፍትህን ለ...         63   Free\n",
              "1   እነዚህን ወሳኝ ጉዳዮችን የሚያስፈፅም አካል እንዲቋቋምና ክትትል እንዲደ...         10   Free\n",
              "2  የአማራ ህዝብ በአእምሮ ክንፉ ያልበረረበት ጥበብና ፍልስፍና ያልከፈተው የ...         19   Free\n",
              "3  ከአማራ ህዝብ የሀገሪቱ ዘርፈ ብዙ እውቀት መንጭቶ የሞላበትከሙላቱም በመል...         23   Free\n",
              "4  ዛሬ በየትኛውም መለኪያ ይሁን መመዘኛ ኢትዮጵያዊነት የሚንፀባረቀው በአማራ...         25   Hate"
            ]
          },
          "execution_count": 6,
          "metadata": {},
          "output_type": "execute_result"
        }
      ],
      "source": [
        "sentences = posts['Num_words'] > 1\n",
        "dataset = posts[sentences]\n",
        "print(dataset.shape)\n",
        "dataset.head()"
      ]
    },
    {
      "cell_type": "markdown",
      "metadata": {
        "id": "gGiQU7rl5eIx"
      },
      "source": [
        "## Examine or analyze the frequency or pattern of the number of words in sentences."
      ]
    },
    {
      "cell_type": "code",
      "execution_count": 7,
      "metadata": {
        "colab": {
          "base_uri": "https://localhost:8080/",
          "height": 517
        },
        "id": "5HIG3V5jR2X5",
        "outputId": "6424c2dd-73d8-4934-a7ed-93241147452e"
      },
      "outputs": [
        {
          "data": {
            "application/vnd.plotly.v1+json": {
              "config": {
                "plotlyServerURL": "https://plot.ly"
              },
              "data": [
                {
                  "alignmentgroup": "True",
                  "hovertemplate": "Number of Words=%{x}<br>Count=%{marker.color}<extra></extra>",
                  "legendgroup": "",
                  "marker": {
                    "color": [
                      1500,
                      1490,
                      1385,
                      1378,
                      1378,
                      1307,
                      1255,
                      1194,
                      1144,
                      1023,
                      959,
                      920,
                      816,
                      814,
                      749,
                      728,
                      714,
                      664,
                      607,
                      586,
                      581,
                      554,
                      460,
                      442,
                      411,
                      376,
                      374,
                      359,
                      307,
                      282,
                      269,
                      253,
                      240,
                      227,
                      222,
                      198,
                      185,
                      175,
                      168,
                      163,
                      161,
                      156,
                      154,
                      148,
                      145,
                      143,
                      143,
                      134,
                      130,
                      119,
                      96,
                      89,
                      68,
                      65,
                      48,
                      46,
                      37,
                      36,
                      36,
                      33,
                      31,
                      31,
                      26,
                      26,
                      26,
                      24,
                      23,
                      23,
                      23,
                      22,
                      21,
                      21,
                      20,
                      20,
                      16,
                      15,
                      14,
                      13,
                      12,
                      12,
                      11,
                      10,
                      10,
                      9,
                      8,
                      8,
                      7,
                      7,
                      5,
                      5,
                      5,
                      5,
                      5,
                      5,
                      5,
                      5,
                      4,
                      4,
                      4,
                      4,
                      3,
                      3,
                      3,
                      3,
                      3,
                      3,
                      2,
                      2,
                      2,
                      2,
                      2,
                      2,
                      2,
                      2,
                      2,
                      2,
                      2,
                      2,
                      2,
                      1,
                      1,
                      1,
                      1,
                      1,
                      1,
                      1,
                      1,
                      1,
                      1,
                      1,
                      1,
                      1,
                      1,
                      1,
                      1,
                      1,
                      1,
                      1,
                      1,
                      1,
                      1,
                      1,
                      1,
                      1,
                      1,
                      1,
                      1,
                      1,
                      1
                    ],
                    "coloraxis": "coloraxis",
                    "line": {
                      "color": "DarkSlateGrey",
                      "width": 1
                    },
                    "pattern": {
                      "shape": ""
                    }
                  },
                  "name": "",
                  "offsetgroup": "",
                  "orientation": "v",
                  "showlegend": false,
                  "textposition": "auto",
                  "type": "bar",
                  "x": [
                    5,
                    6,
                    4,
                    8,
                    7,
                    9,
                    10,
                    3,
                    11,
                    12,
                    13,
                    14,
                    15,
                    2,
                    16,
                    17,
                    18,
                    19,
                    21,
                    20,
                    22,
                    23,
                    24,
                    26,
                    25,
                    28,
                    27,
                    29,
                    30,
                    31,
                    33,
                    32,
                    34,
                    37,
                    35,
                    41,
                    36,
                    38,
                    42,
                    39,
                    45,
                    40,
                    46,
                    43,
                    44,
                    47,
                    48,
                    49,
                    50,
                    51,
                    52,
                    53,
                    54,
                    55,
                    56,
                    57,
                    64,
                    66,
                    58,
                    60,
                    63,
                    71,
                    62,
                    61,
                    75,
                    59,
                    68,
                    65,
                    67,
                    72,
                    69,
                    76,
                    74,
                    77,
                    78,
                    70,
                    81,
                    91,
                    79,
                    73,
                    94,
                    80,
                    83,
                    86,
                    85,
                    82,
                    97,
                    92,
                    110,
                    98,
                    100,
                    95,
                    109,
                    107,
                    111,
                    89,
                    84,
                    88,
                    104,
                    106,
                    96,
                    102,
                    132,
                    115,
                    87,
                    93,
                    123,
                    140,
                    118,
                    101,
                    146,
                    90,
                    136,
                    114,
                    130,
                    138,
                    119,
                    105,
                    117,
                    108,
                    228,
                    128,
                    159,
                    143,
                    147,
                    156,
                    137,
                    152,
                    222,
                    113,
                    141,
                    124,
                    178,
                    121,
                    181,
                    135,
                    122,
                    149,
                    169,
                    166,
                    179,
                    126,
                    144,
                    180,
                    134,
                    116,
                    171,
                    120,
                    254
                  ],
                  "xaxis": "x",
                  "y": [
                    1500,
                    1490,
                    1385,
                    1378,
                    1378,
                    1307,
                    1255,
                    1194,
                    1144,
                    1023,
                    959,
                    920,
                    816,
                    814,
                    749,
                    728,
                    714,
                    664,
                    607,
                    586,
                    581,
                    554,
                    460,
                    442,
                    411,
                    376,
                    374,
                    359,
                    307,
                    282,
                    269,
                    253,
                    240,
                    227,
                    222,
                    198,
                    185,
                    175,
                    168,
                    163,
                    161,
                    156,
                    154,
                    148,
                    145,
                    143,
                    143,
                    134,
                    130,
                    119,
                    96,
                    89,
                    68,
                    65,
                    48,
                    46,
                    37,
                    36,
                    36,
                    33,
                    31,
                    31,
                    26,
                    26,
                    26,
                    24,
                    23,
                    23,
                    23,
                    22,
                    21,
                    21,
                    20,
                    20,
                    16,
                    15,
                    14,
                    13,
                    12,
                    12,
                    11,
                    10,
                    10,
                    9,
                    8,
                    8,
                    7,
                    7,
                    5,
                    5,
                    5,
                    5,
                    5,
                    5,
                    5,
                    5,
                    4,
                    4,
                    4,
                    4,
                    3,
                    3,
                    3,
                    3,
                    3,
                    3,
                    2,
                    2,
                    2,
                    2,
                    2,
                    2,
                    2,
                    2,
                    2,
                    2,
                    2,
                    2,
                    2,
                    1,
                    1,
                    1,
                    1,
                    1,
                    1,
                    1,
                    1,
                    1,
                    1,
                    1,
                    1,
                    1,
                    1,
                    1,
                    1,
                    1,
                    1,
                    1,
                    1,
                    1,
                    1,
                    1,
                    1,
                    1,
                    1,
                    1,
                    1,
                    1,
                    1
                  ],
                  "yaxis": "y"
                }
              ],
              "layout": {
                "barmode": "relative",
                "coloraxis": {
                  "colorbar": {
                    "title": {
                      "text": "Count"
                    }
                  },
                  "colorscale": [
                    [
                      0,
                      "#440154"
                    ],
                    [
                      0.1111111111111111,
                      "#482878"
                    ],
                    [
                      0.2222222222222222,
                      "#3e4989"
                    ],
                    [
                      0.3333333333333333,
                      "#31688e"
                    ],
                    [
                      0.4444444444444444,
                      "#26828e"
                    ],
                    [
                      0.5555555555555556,
                      "#1f9e89"
                    ],
                    [
                      0.6666666666666666,
                      "#35b779"
                    ],
                    [
                      0.7777777777777778,
                      "#6ece58"
                    ],
                    [
                      0.8888888888888888,
                      "#b5de2b"
                    ],
                    [
                      1,
                      "#fde725"
                    ]
                  ]
                },
                "height": 500,
                "legend": {
                  "tracegroupgap": 0
                },
                "template": {
                  "data": {
                    "bar": [
                      {
                        "error_x": {
                          "color": "#f2f5fa"
                        },
                        "error_y": {
                          "color": "#f2f5fa"
                        },
                        "marker": {
                          "line": {
                            "color": "rgb(17,17,17)",
                            "width": 0.5
                          },
                          "pattern": {
                            "fillmode": "overlay",
                            "size": 10,
                            "solidity": 0.2
                          }
                        },
                        "type": "bar"
                      }
                    ],
                    "barpolar": [
                      {
                        "marker": {
                          "line": {
                            "color": "rgb(17,17,17)",
                            "width": 0.5
                          },
                          "pattern": {
                            "fillmode": "overlay",
                            "size": 10,
                            "solidity": 0.2
                          }
                        },
                        "type": "barpolar"
                      }
                    ],
                    "carpet": [
                      {
                        "aaxis": {
                          "endlinecolor": "#A2B1C6",
                          "gridcolor": "#506784",
                          "linecolor": "#506784",
                          "minorgridcolor": "#506784",
                          "startlinecolor": "#A2B1C6"
                        },
                        "baxis": {
                          "endlinecolor": "#A2B1C6",
                          "gridcolor": "#506784",
                          "linecolor": "#506784",
                          "minorgridcolor": "#506784",
                          "startlinecolor": "#A2B1C6"
                        },
                        "type": "carpet"
                      }
                    ],
                    "choropleth": [
                      {
                        "colorbar": {
                          "outlinewidth": 0,
                          "ticks": ""
                        },
                        "type": "choropleth"
                      }
                    ],
                    "contour": [
                      {
                        "colorbar": {
                          "outlinewidth": 0,
                          "ticks": ""
                        },
                        "colorscale": [
                          [
                            0,
                            "#0d0887"
                          ],
                          [
                            0.1111111111111111,
                            "#46039f"
                          ],
                          [
                            0.2222222222222222,
                            "#7201a8"
                          ],
                          [
                            0.3333333333333333,
                            "#9c179e"
                          ],
                          [
                            0.4444444444444444,
                            "#bd3786"
                          ],
                          [
                            0.5555555555555556,
                            "#d8576b"
                          ],
                          [
                            0.6666666666666666,
                            "#ed7953"
                          ],
                          [
                            0.7777777777777778,
                            "#fb9f3a"
                          ],
                          [
                            0.8888888888888888,
                            "#fdca26"
                          ],
                          [
                            1,
                            "#f0f921"
                          ]
                        ],
                        "type": "contour"
                      }
                    ],
                    "contourcarpet": [
                      {
                        "colorbar": {
                          "outlinewidth": 0,
                          "ticks": ""
                        },
                        "type": "contourcarpet"
                      }
                    ],
                    "heatmap": [
                      {
                        "colorbar": {
                          "outlinewidth": 0,
                          "ticks": ""
                        },
                        "colorscale": [
                          [
                            0,
                            "#0d0887"
                          ],
                          [
                            0.1111111111111111,
                            "#46039f"
                          ],
                          [
                            0.2222222222222222,
                            "#7201a8"
                          ],
                          [
                            0.3333333333333333,
                            "#9c179e"
                          ],
                          [
                            0.4444444444444444,
                            "#bd3786"
                          ],
                          [
                            0.5555555555555556,
                            "#d8576b"
                          ],
                          [
                            0.6666666666666666,
                            "#ed7953"
                          ],
                          [
                            0.7777777777777778,
                            "#fb9f3a"
                          ],
                          [
                            0.8888888888888888,
                            "#fdca26"
                          ],
                          [
                            1,
                            "#f0f921"
                          ]
                        ],
                        "type": "heatmap"
                      }
                    ],
                    "heatmapgl": [
                      {
                        "colorbar": {
                          "outlinewidth": 0,
                          "ticks": ""
                        },
                        "colorscale": [
                          [
                            0,
                            "#0d0887"
                          ],
                          [
                            0.1111111111111111,
                            "#46039f"
                          ],
                          [
                            0.2222222222222222,
                            "#7201a8"
                          ],
                          [
                            0.3333333333333333,
                            "#9c179e"
                          ],
                          [
                            0.4444444444444444,
                            "#bd3786"
                          ],
                          [
                            0.5555555555555556,
                            "#d8576b"
                          ],
                          [
                            0.6666666666666666,
                            "#ed7953"
                          ],
                          [
                            0.7777777777777778,
                            "#fb9f3a"
                          ],
                          [
                            0.8888888888888888,
                            "#fdca26"
                          ],
                          [
                            1,
                            "#f0f921"
                          ]
                        ],
                        "type": "heatmapgl"
                      }
                    ],
                    "histogram": [
                      {
                        "marker": {
                          "pattern": {
                            "fillmode": "overlay",
                            "size": 10,
                            "solidity": 0.2
                          }
                        },
                        "type": "histogram"
                      }
                    ],
                    "histogram2d": [
                      {
                        "colorbar": {
                          "outlinewidth": 0,
                          "ticks": ""
                        },
                        "colorscale": [
                          [
                            0,
                            "#0d0887"
                          ],
                          [
                            0.1111111111111111,
                            "#46039f"
                          ],
                          [
                            0.2222222222222222,
                            "#7201a8"
                          ],
                          [
                            0.3333333333333333,
                            "#9c179e"
                          ],
                          [
                            0.4444444444444444,
                            "#bd3786"
                          ],
                          [
                            0.5555555555555556,
                            "#d8576b"
                          ],
                          [
                            0.6666666666666666,
                            "#ed7953"
                          ],
                          [
                            0.7777777777777778,
                            "#fb9f3a"
                          ],
                          [
                            0.8888888888888888,
                            "#fdca26"
                          ],
                          [
                            1,
                            "#f0f921"
                          ]
                        ],
                        "type": "histogram2d"
                      }
                    ],
                    "histogram2dcontour": [
                      {
                        "colorbar": {
                          "outlinewidth": 0,
                          "ticks": ""
                        },
                        "colorscale": [
                          [
                            0,
                            "#0d0887"
                          ],
                          [
                            0.1111111111111111,
                            "#46039f"
                          ],
                          [
                            0.2222222222222222,
                            "#7201a8"
                          ],
                          [
                            0.3333333333333333,
                            "#9c179e"
                          ],
                          [
                            0.4444444444444444,
                            "#bd3786"
                          ],
                          [
                            0.5555555555555556,
                            "#d8576b"
                          ],
                          [
                            0.6666666666666666,
                            "#ed7953"
                          ],
                          [
                            0.7777777777777778,
                            "#fb9f3a"
                          ],
                          [
                            0.8888888888888888,
                            "#fdca26"
                          ],
                          [
                            1,
                            "#f0f921"
                          ]
                        ],
                        "type": "histogram2dcontour"
                      }
                    ],
                    "mesh3d": [
                      {
                        "colorbar": {
                          "outlinewidth": 0,
                          "ticks": ""
                        },
                        "type": "mesh3d"
                      }
                    ],
                    "parcoords": [
                      {
                        "line": {
                          "colorbar": {
                            "outlinewidth": 0,
                            "ticks": ""
                          }
                        },
                        "type": "parcoords"
                      }
                    ],
                    "pie": [
                      {
                        "automargin": true,
                        "type": "pie"
                      }
                    ],
                    "scatter": [
                      {
                        "marker": {
                          "line": {
                            "color": "#283442"
                          }
                        },
                        "type": "scatter"
                      }
                    ],
                    "scatter3d": [
                      {
                        "line": {
                          "colorbar": {
                            "outlinewidth": 0,
                            "ticks": ""
                          }
                        },
                        "marker": {
                          "colorbar": {
                            "outlinewidth": 0,
                            "ticks": ""
                          }
                        },
                        "type": "scatter3d"
                      }
                    ],
                    "scattercarpet": [
                      {
                        "marker": {
                          "colorbar": {
                            "outlinewidth": 0,
                            "ticks": ""
                          }
                        },
                        "type": "scattercarpet"
                      }
                    ],
                    "scattergeo": [
                      {
                        "marker": {
                          "colorbar": {
                            "outlinewidth": 0,
                            "ticks": ""
                          }
                        },
                        "type": "scattergeo"
                      }
                    ],
                    "scattergl": [
                      {
                        "marker": {
                          "line": {
                            "color": "#283442"
                          }
                        },
                        "type": "scattergl"
                      }
                    ],
                    "scattermapbox": [
                      {
                        "marker": {
                          "colorbar": {
                            "outlinewidth": 0,
                            "ticks": ""
                          }
                        },
                        "type": "scattermapbox"
                      }
                    ],
                    "scatterpolar": [
                      {
                        "marker": {
                          "colorbar": {
                            "outlinewidth": 0,
                            "ticks": ""
                          }
                        },
                        "type": "scatterpolar"
                      }
                    ],
                    "scatterpolargl": [
                      {
                        "marker": {
                          "colorbar": {
                            "outlinewidth": 0,
                            "ticks": ""
                          }
                        },
                        "type": "scatterpolargl"
                      }
                    ],
                    "scatterternary": [
                      {
                        "marker": {
                          "colorbar": {
                            "outlinewidth": 0,
                            "ticks": ""
                          }
                        },
                        "type": "scatterternary"
                      }
                    ],
                    "surface": [
                      {
                        "colorbar": {
                          "outlinewidth": 0,
                          "ticks": ""
                        },
                        "colorscale": [
                          [
                            0,
                            "#0d0887"
                          ],
                          [
                            0.1111111111111111,
                            "#46039f"
                          ],
                          [
                            0.2222222222222222,
                            "#7201a8"
                          ],
                          [
                            0.3333333333333333,
                            "#9c179e"
                          ],
                          [
                            0.4444444444444444,
                            "#bd3786"
                          ],
                          [
                            0.5555555555555556,
                            "#d8576b"
                          ],
                          [
                            0.6666666666666666,
                            "#ed7953"
                          ],
                          [
                            0.7777777777777778,
                            "#fb9f3a"
                          ],
                          [
                            0.8888888888888888,
                            "#fdca26"
                          ],
                          [
                            1,
                            "#f0f921"
                          ]
                        ],
                        "type": "surface"
                      }
                    ],
                    "table": [
                      {
                        "cells": {
                          "fill": {
                            "color": "#506784"
                          },
                          "line": {
                            "color": "rgb(17,17,17)"
                          }
                        },
                        "header": {
                          "fill": {
                            "color": "#2a3f5f"
                          },
                          "line": {
                            "color": "rgb(17,17,17)"
                          }
                        },
                        "type": "table"
                      }
                    ]
                  },
                  "layout": {
                    "annotationdefaults": {
                      "arrowcolor": "#f2f5fa",
                      "arrowhead": 0,
                      "arrowwidth": 1
                    },
                    "autotypenumbers": "strict",
                    "coloraxis": {
                      "colorbar": {
                        "outlinewidth": 0,
                        "ticks": ""
                      }
                    },
                    "colorscale": {
                      "diverging": [
                        [
                          0,
                          "#8e0152"
                        ],
                        [
                          0.1,
                          "#c51b7d"
                        ],
                        [
                          0.2,
                          "#de77ae"
                        ],
                        [
                          0.3,
                          "#f1b6da"
                        ],
                        [
                          0.4,
                          "#fde0ef"
                        ],
                        [
                          0.5,
                          "#f7f7f7"
                        ],
                        [
                          0.6,
                          "#e6f5d0"
                        ],
                        [
                          0.7,
                          "#b8e186"
                        ],
                        [
                          0.8,
                          "#7fbc41"
                        ],
                        [
                          0.9,
                          "#4d9221"
                        ],
                        [
                          1,
                          "#276419"
                        ]
                      ],
                      "sequential": [
                        [
                          0,
                          "#0d0887"
                        ],
                        [
                          0.1111111111111111,
                          "#46039f"
                        ],
                        [
                          0.2222222222222222,
                          "#7201a8"
                        ],
                        [
                          0.3333333333333333,
                          "#9c179e"
                        ],
                        [
                          0.4444444444444444,
                          "#bd3786"
                        ],
                        [
                          0.5555555555555556,
                          "#d8576b"
                        ],
                        [
                          0.6666666666666666,
                          "#ed7953"
                        ],
                        [
                          0.7777777777777778,
                          "#fb9f3a"
                        ],
                        [
                          0.8888888888888888,
                          "#fdca26"
                        ],
                        [
                          1,
                          "#f0f921"
                        ]
                      ],
                      "sequentialminus": [
                        [
                          0,
                          "#0d0887"
                        ],
                        [
                          0.1111111111111111,
                          "#46039f"
                        ],
                        [
                          0.2222222222222222,
                          "#7201a8"
                        ],
                        [
                          0.3333333333333333,
                          "#9c179e"
                        ],
                        [
                          0.4444444444444444,
                          "#bd3786"
                        ],
                        [
                          0.5555555555555556,
                          "#d8576b"
                        ],
                        [
                          0.6666666666666666,
                          "#ed7953"
                        ],
                        [
                          0.7777777777777778,
                          "#fb9f3a"
                        ],
                        [
                          0.8888888888888888,
                          "#fdca26"
                        ],
                        [
                          1,
                          "#f0f921"
                        ]
                      ]
                    },
                    "colorway": [
                      "#636efa",
                      "#EF553B",
                      "#00cc96",
                      "#ab63fa",
                      "#FFA15A",
                      "#19d3f3",
                      "#FF6692",
                      "#B6E880",
                      "#FF97FF",
                      "#FECB52"
                    ],
                    "font": {
                      "color": "#f2f5fa"
                    },
                    "geo": {
                      "bgcolor": "rgb(17,17,17)",
                      "lakecolor": "rgb(17,17,17)",
                      "landcolor": "rgb(17,17,17)",
                      "showlakes": true,
                      "showland": true,
                      "subunitcolor": "#506784"
                    },
                    "hoverlabel": {
                      "align": "left"
                    },
                    "hovermode": "closest",
                    "mapbox": {
                      "style": "dark"
                    },
                    "paper_bgcolor": "rgb(17,17,17)",
                    "plot_bgcolor": "rgb(17,17,17)",
                    "polar": {
                      "angularaxis": {
                        "gridcolor": "#506784",
                        "linecolor": "#506784",
                        "ticks": ""
                      },
                      "bgcolor": "rgb(17,17,17)",
                      "radialaxis": {
                        "gridcolor": "#506784",
                        "linecolor": "#506784",
                        "ticks": ""
                      }
                    },
                    "scene": {
                      "xaxis": {
                        "backgroundcolor": "rgb(17,17,17)",
                        "gridcolor": "#506784",
                        "gridwidth": 2,
                        "linecolor": "#506784",
                        "showbackground": true,
                        "ticks": "",
                        "zerolinecolor": "#C8D4E3"
                      },
                      "yaxis": {
                        "backgroundcolor": "rgb(17,17,17)",
                        "gridcolor": "#506784",
                        "gridwidth": 2,
                        "linecolor": "#506784",
                        "showbackground": true,
                        "ticks": "",
                        "zerolinecolor": "#C8D4E3"
                      },
                      "zaxis": {
                        "backgroundcolor": "rgb(17,17,17)",
                        "gridcolor": "#506784",
                        "gridwidth": 2,
                        "linecolor": "#506784",
                        "showbackground": true,
                        "ticks": "",
                        "zerolinecolor": "#C8D4E3"
                      }
                    },
                    "shapedefaults": {
                      "line": {
                        "color": "#f2f5fa"
                      }
                    },
                    "sliderdefaults": {
                      "bgcolor": "#C8D4E3",
                      "bordercolor": "rgb(17,17,17)",
                      "borderwidth": 1,
                      "tickwidth": 0
                    },
                    "ternary": {
                      "aaxis": {
                        "gridcolor": "#506784",
                        "linecolor": "#506784",
                        "ticks": ""
                      },
                      "baxis": {
                        "gridcolor": "#506784",
                        "linecolor": "#506784",
                        "ticks": ""
                      },
                      "bgcolor": "rgb(17,17,17)",
                      "caxis": {
                        "gridcolor": "#506784",
                        "linecolor": "#506784",
                        "ticks": ""
                      }
                    },
                    "title": {
                      "x": 0.05
                    },
                    "updatemenudefaults": {
                      "bgcolor": "#506784",
                      "borderwidth": 0
                    },
                    "xaxis": {
                      "automargin": true,
                      "gridcolor": "#283442",
                      "linecolor": "#506784",
                      "ticks": "",
                      "title": {
                        "standoff": 15
                      },
                      "zerolinecolor": "#283442",
                      "zerolinewidth": 2
                    },
                    "yaxis": {
                      "automargin": true,
                      "gridcolor": "#283442",
                      "linecolor": "#506784",
                      "ticks": "",
                      "title": {
                        "standoff": 15
                      },
                      "zerolinecolor": "#283442",
                      "zerolinewidth": 2
                    }
                  }
                },
                "title": {
                  "text": "Sentence Length Distribution"
                },
                "width": 800,
                "xaxis": {
                  "anchor": "y",
                  "domain": [
                    0,
                    1
                  ],
                  "title": {
                    "text": "Number of Words"
                  }
                },
                "yaxis": {
                  "anchor": "x",
                  "domain": [
                    0,
                    1
                  ],
                  "title": {
                    "text": "Count"
                  }
                }
              }
            }
          },
          "metadata": {},
          "output_type": "display_data"
        }
      ],
      "source": [
        "import pandas as pd\n",
        "import plotly.express as px\n",
        "\n",
        "# Assuming you have a DataFrame named 'dataset' containing the data\n",
        "\n",
        "# Calculate the count of each value in the 'Num_words' column\n",
        "plot_df = dataset.Num_words.value_counts().rename_axis('Num_words').reset_index(name='counts')\n",
        "\n",
        "# Configure the color, appearance, and shape of the bars\n",
        "fig = px.bar(plot_df, x=\"Num_words\", y=\"counts\", color=\"counts\",\n",
        "             title=\"Sentence Length Distribution\",\n",
        "             color_continuous_scale='viridis',  # Set the color scale\n",
        "             template='plotly_dark',  # Set the plot template\n",
        "             hover_data={'Num_words': True, 'counts': True},  # Include additional hover data\n",
        "             labels={'Num_words': 'Number of Words', 'counts': 'Count'},  # Update axis labels\n",
        "             width=800, height=500)  # Set the plot size\n",
        "\n",
        "# Update the bar shapes\n",
        "fig.update_traces(marker=dict(line=dict(width=1, color='DarkSlateGrey')))  # Update the bar line color and width\n",
        "\n",
        "# Show the updated bar plot\n",
        "fig.show()\n"
      ]
    },
    {
      "cell_type": "markdown",
      "metadata": {
        "id": "6_XgxbbYfX2P"
      },
      "source": [
        "This graph shows the distribution of sentence lengths in a dataset. The x-axis represents the number of words in a sentence, and the y-axis represents the count of sentences with that length. Each bar represents a specific sentence length, with the height indicating the number of sentences. The color of the bars represents the count, with darker colors indicating higher counts. This visualization helps understand the variation and patterns in sentence lengths within the dataset. The plot uses Plotly Express with a dark template and includes hover data for interactive exploration. The updated bar shapes have dark slate grey lines for better visibility."
      ]
    },
    {
      "cell_type": "markdown",
      "metadata": {
        "id": "7tfW9Zh95eIy"
      },
      "source": [
        "## Downloaded file is included because they are not being viewed unless re-run every time opening the file. Please view \"Plot-1.png\" file. "
      ]
    },
    {
      "cell_type": "code",
      "execution_count": 8,
      "metadata": {
        "colab": {
          "base_uri": "https://localhost:8080/",
          "height": 89
        },
        "id": "CCrgLcK05eIy",
        "outputId": "08a68690-7136-45ea-dd29-c66581e58343"
      },
      "outputs": [
        {
          "data": {
            "text/html": [
              "<div>\n",
              "<style scoped>\n",
              "    .dataframe tbody tr th:only-of-type {\n",
              "        vertical-align: middle;\n",
              "    }\n",
              "\n",
              "    .dataframe tbody tr th {\n",
              "        vertical-align: top;\n",
              "    }\n",
              "\n",
              "    .dataframe thead th {\n",
              "        text-align: right;\n",
              "    }\n",
              "</style>\n",
              "<table border=\"1\" class=\"dataframe\">\n",
              "  <thead>\n",
              "    <tr style=\"text-align: right;\">\n",
              "      <th></th>\n",
              "      <th>post</th>\n",
              "      <th>Num_words</th>\n",
              "      <th>labels</th>\n",
              "    </tr>\n",
              "  </thead>\n",
              "  <tbody>\n",
              "    <tr>\n",
              "      <th>0</th>\n",
              "      <td>አስቀድሜ ጥያቄዬ በጨዋነት በውስጥ መስመር እንዲደርስዎ አድርጌ ፍትህን ለ...</td>\n",
              "      <td>63</td>\n",
              "      <td>Free</td>\n",
              "    </tr>\n",
              "    <tr>\n",
              "      <th>282</th>\n",
              "      <td>ነፍስ ይማርልን ለወገኖቻችን እነዚህ ነፍሰበላ ደንቆሮ አህያነጅሁሉ ዋጋቸው...</td>\n",
              "      <td>94</td>\n",
              "      <td>Hate</td>\n",
              "    </tr>\n",
              "    <tr>\n",
              "      <th>467</th>\n",
              "      <td>ወንድሜ ታደለ ይሄን ጦማር ስትጦምር እያለቀስክ ሊሆን እንሚችል እገምታለሁ...</td>\n",
              "      <td>57</td>\n",
              "      <td>Free</td>\n",
              "    </tr>\n",
              "    <tr>\n",
              "      <th>576</th>\n",
              "      <td>ሞታቸው እጅግ ያማል ነገር ግን ለተፈጠረው ችግር ተጠያቂው መንግስት እንጅ...</td>\n",
              "      <td>63</td>\n",
              "      <td>Free</td>\n",
              "    </tr>\n",
              "    <tr>\n",
              "      <th>752</th>\n",
              "      <td>በተኮል ምናብ ቆመ ድንጋይ ይልቅ እናንተ የፈፀማቹት ግፍ እጅጉን ይልቃል ...</td>\n",
              "      <td>71</td>\n",
              "      <td>Hate</td>\n",
              "    </tr>\n",
              "    <tr>\n",
              "      <th>...</th>\n",
              "      <td>...</td>\n",
              "      <td>...</td>\n",
              "      <td>...</td>\n",
              "    </tr>\n",
              "    <tr>\n",
              "      <th>29113</th>\n",
              "      <td>የብሄራዊ እርቅና መግባባት ኮሚሽን ስራዉ ዉጤታማ መሆን ካለበት የዎቹ ትዉ...</td>\n",
              "      <td>66</td>\n",
              "      <td>Free</td>\n",
              "    </tr>\n",
              "    <tr>\n",
              "      <th>29655</th>\n",
              "      <td>ፖለቲካ አንዳች ነገር የማናዉቅ ነገር ግን ከእኛ በላይ ፖለቲካ ላሳር ነ...</td>\n",
              "      <td>110</td>\n",
              "      <td>Free</td>\n",
              "    </tr>\n",
              "    <tr>\n",
              "      <th>29666</th>\n",
              "      <td>በተለይ በተግደርዳሪ የፖለቲካ ሀይሎች ዘንድ ያለዉ ዝግጁነት እና የፖለቲካ...</td>\n",
              "      <td>63</td>\n",
              "      <td>Free</td>\n",
              "    </tr>\n",
              "    <tr>\n",
              "      <th>29743</th>\n",
              "      <td>ሚኪ በጣም ጥሩ ሀሳብ ነው ማንም ለ አማራ ህዝብ አስባለሁ የሚል አክቲቪስ...</td>\n",
              "      <td>58</td>\n",
              "      <td>Free</td>\n",
              "    </tr>\n",
              "    <tr>\n",
              "      <th>29862</th>\n",
              "      <td>ሽኩቻዉ በሙሉ በግለሰቦች በኩል ነዉ አብይ እንደ ጠቅላይ ሚኒስቴር የራ...</td>\n",
              "      <td>66</td>\n",
              "      <td>Hate</td>\n",
              "    </tr>\n",
              "  </tbody>\n",
              "</table>\n",
              "<p>855 rows × 3 columns</p>\n",
              "</div>"
            ],
            "text/plain": [
              "                                                    post  Num_words labels\n",
              "0      አስቀድሜ ጥያቄዬ በጨዋነት በውስጥ መስመር እንዲደርስዎ አድርጌ ፍትህን ለ...         63   Free\n",
              "282    ነፍስ ይማርልን ለወገኖቻችን እነዚህ ነፍሰበላ ደንቆሮ አህያነጅሁሉ ዋጋቸው...         94   Hate\n",
              "467    ወንድሜ ታደለ ይሄን ጦማር ስትጦምር እያለቀስክ ሊሆን እንሚችል እገምታለሁ...         57   Free\n",
              "576    ሞታቸው እጅግ ያማል ነገር ግን ለተፈጠረው ችግር ተጠያቂው መንግስት እንጅ...         63   Free\n",
              "752    በተኮል ምናብ ቆመ ድንጋይ ይልቅ እናንተ የፈፀማቹት ግፍ እጅጉን ይልቃል ...         71   Hate\n",
              "...                                                  ...        ...    ...\n",
              "29113  የብሄራዊ እርቅና መግባባት ኮሚሽን ስራዉ ዉጤታማ መሆን ካለበት የዎቹ ትዉ...         66   Free\n",
              "29655   ፖለቲካ አንዳች ነገር የማናዉቅ ነገር ግን ከእኛ በላይ ፖለቲካ ላሳር ነ...        110   Free\n",
              "29666  በተለይ በተግደርዳሪ የፖለቲካ ሀይሎች ዘንድ ያለዉ ዝግጁነት እና የፖለቲካ...         63   Free\n",
              "29743  ሚኪ በጣም ጥሩ ሀሳብ ነው ማንም ለ አማራ ህዝብ አስባለሁ የሚል አክቲቪስ...         58   Free\n",
              "29862    ሽኩቻዉ በሙሉ በግለሰቦች በኩል ነዉ አብይ እንደ ጠቅላይ ሚኒስቴር የራ...         66   Hate\n",
              "\n",
              "[855 rows x 3 columns]"
            ]
          },
          "execution_count": 8,
          "metadata": {},
          "output_type": "execute_result"
        }
      ],
      "source": [
        "# Extract sentence containing words > 55\n",
        "# 55 is set by observing the no. of sentences to lose by trial and error\n",
        "many_words = dataset['Num_words'] > 55\n",
        "large_sentences = dataset[many_words]\n",
        "large_sentences"
      ]
    },
    {
      "cell_type": "markdown",
      "metadata": {
        "id": "TZTdXJYm5eIz"
      },
      "source": [
        "# Extract sentence of valuable word counts"
      ]
    },
    {
      "cell_type": "code",
      "execution_count": 9,
      "metadata": {
        "colab": {
          "base_uri": "https://localhost:8080/"
        },
        "id": "5f0KLaaN5eIz",
        "outputId": "d8d3d606-44e4-40de-fc2b-ed30adfea2fe"
      },
      "outputs": [
        {
          "data": {
            "text/plain": [
              "(28608, 3)"
            ]
          },
          "execution_count": 9,
          "metadata": {},
          "output_type": "execute_result"
        }
      ],
      "source": [
        "max_length = 55\n",
        "num_words = dataset['Num_words'] <= max_length\n",
        "dataset = dataset[num_words]\n",
        "dataset.shape"
      ]
    },
    {
      "cell_type": "markdown",
      "metadata": {
        "id": "gd1PFBkr5eI0"
      },
      "source": [
        "## Review or examine again the way in which the words are distributed"
      ]
    },
    {
      "cell_type": "code",
      "execution_count": 10,
      "metadata": {
        "colab": {
          "base_uri": "https://localhost:8080/",
          "height": 517
        },
        "id": "OmjUJrOCEo-n",
        "outputId": "aedc1530-a362-42f3-a0be-6907c957cb2d"
      },
      "outputs": [
        {
          "data": {
            "application/vnd.plotly.v1+json": {
              "config": {
                "plotlyServerURL": "https://plot.ly"
              },
              "data": [
                {
                  "alignmentgroup": "True",
                  "hovertemplate": "Number of Words=%{x}<br>Count=%{marker.color}<extra></extra>",
                  "legendgroup": "",
                  "marker": {
                    "color": [
                      1500,
                      1490,
                      1385,
                      1378,
                      1378,
                      1307,
                      1255,
                      1194,
                      1144,
                      1023,
                      959,
                      920,
                      816,
                      814,
                      749,
                      728,
                      714,
                      664,
                      607,
                      586,
                      581,
                      554,
                      460,
                      442,
                      411,
                      376,
                      374,
                      359,
                      307,
                      282,
                      269,
                      253,
                      240,
                      227,
                      222,
                      198,
                      185,
                      175,
                      168,
                      163,
                      161,
                      156,
                      154,
                      148,
                      145,
                      143,
                      143,
                      134,
                      130,
                      119,
                      96,
                      89,
                      68,
                      65
                    ],
                    "coloraxis": "coloraxis",
                    "line": {
                      "color": "DarkSlateGrey",
                      "width": 1
                    },
                    "pattern": {
                      "shape": ""
                    }
                  },
                  "name": "",
                  "offsetgroup": "",
                  "orientation": "v",
                  "showlegend": false,
                  "textposition": "auto",
                  "type": "bar",
                  "x": [
                    5,
                    6,
                    4,
                    8,
                    7,
                    9,
                    10,
                    3,
                    11,
                    12,
                    13,
                    14,
                    15,
                    2,
                    16,
                    17,
                    18,
                    19,
                    21,
                    20,
                    22,
                    23,
                    24,
                    26,
                    25,
                    28,
                    27,
                    29,
                    30,
                    31,
                    33,
                    32,
                    34,
                    37,
                    35,
                    41,
                    36,
                    38,
                    42,
                    39,
                    45,
                    40,
                    46,
                    43,
                    44,
                    47,
                    48,
                    49,
                    50,
                    51,
                    52,
                    53,
                    54,
                    55
                  ],
                  "xaxis": "x",
                  "y": [
                    1500,
                    1490,
                    1385,
                    1378,
                    1378,
                    1307,
                    1255,
                    1194,
                    1144,
                    1023,
                    959,
                    920,
                    816,
                    814,
                    749,
                    728,
                    714,
                    664,
                    607,
                    586,
                    581,
                    554,
                    460,
                    442,
                    411,
                    376,
                    374,
                    359,
                    307,
                    282,
                    269,
                    253,
                    240,
                    227,
                    222,
                    198,
                    185,
                    175,
                    168,
                    163,
                    161,
                    156,
                    154,
                    148,
                    145,
                    143,
                    143,
                    134,
                    130,
                    119,
                    96,
                    89,
                    68,
                    65
                  ],
                  "yaxis": "y"
                }
              ],
              "layout": {
                "barmode": "relative",
                "coloraxis": {
                  "colorbar": {
                    "title": {
                      "text": "Count"
                    }
                  },
                  "colorscale": [
                    [
                      0,
                      "#440154"
                    ],
                    [
                      0.1111111111111111,
                      "#482878"
                    ],
                    [
                      0.2222222222222222,
                      "#3e4989"
                    ],
                    [
                      0.3333333333333333,
                      "#31688e"
                    ],
                    [
                      0.4444444444444444,
                      "#26828e"
                    ],
                    [
                      0.5555555555555556,
                      "#1f9e89"
                    ],
                    [
                      0.6666666666666666,
                      "#35b779"
                    ],
                    [
                      0.7777777777777778,
                      "#6ece58"
                    ],
                    [
                      0.8888888888888888,
                      "#b5de2b"
                    ],
                    [
                      1,
                      "#fde725"
                    ]
                  ]
                },
                "height": 500,
                "legend": {
                  "tracegroupgap": 0
                },
                "template": {
                  "data": {
                    "bar": [
                      {
                        "error_x": {
                          "color": "#f2f5fa"
                        },
                        "error_y": {
                          "color": "#f2f5fa"
                        },
                        "marker": {
                          "line": {
                            "color": "rgb(17,17,17)",
                            "width": 0.5
                          },
                          "pattern": {
                            "fillmode": "overlay",
                            "size": 10,
                            "solidity": 0.2
                          }
                        },
                        "type": "bar"
                      }
                    ],
                    "barpolar": [
                      {
                        "marker": {
                          "line": {
                            "color": "rgb(17,17,17)",
                            "width": 0.5
                          },
                          "pattern": {
                            "fillmode": "overlay",
                            "size": 10,
                            "solidity": 0.2
                          }
                        },
                        "type": "barpolar"
                      }
                    ],
                    "carpet": [
                      {
                        "aaxis": {
                          "endlinecolor": "#A2B1C6",
                          "gridcolor": "#506784",
                          "linecolor": "#506784",
                          "minorgridcolor": "#506784",
                          "startlinecolor": "#A2B1C6"
                        },
                        "baxis": {
                          "endlinecolor": "#A2B1C6",
                          "gridcolor": "#506784",
                          "linecolor": "#506784",
                          "minorgridcolor": "#506784",
                          "startlinecolor": "#A2B1C6"
                        },
                        "type": "carpet"
                      }
                    ],
                    "choropleth": [
                      {
                        "colorbar": {
                          "outlinewidth": 0,
                          "ticks": ""
                        },
                        "type": "choropleth"
                      }
                    ],
                    "contour": [
                      {
                        "colorbar": {
                          "outlinewidth": 0,
                          "ticks": ""
                        },
                        "colorscale": [
                          [
                            0,
                            "#0d0887"
                          ],
                          [
                            0.1111111111111111,
                            "#46039f"
                          ],
                          [
                            0.2222222222222222,
                            "#7201a8"
                          ],
                          [
                            0.3333333333333333,
                            "#9c179e"
                          ],
                          [
                            0.4444444444444444,
                            "#bd3786"
                          ],
                          [
                            0.5555555555555556,
                            "#d8576b"
                          ],
                          [
                            0.6666666666666666,
                            "#ed7953"
                          ],
                          [
                            0.7777777777777778,
                            "#fb9f3a"
                          ],
                          [
                            0.8888888888888888,
                            "#fdca26"
                          ],
                          [
                            1,
                            "#f0f921"
                          ]
                        ],
                        "type": "contour"
                      }
                    ],
                    "contourcarpet": [
                      {
                        "colorbar": {
                          "outlinewidth": 0,
                          "ticks": ""
                        },
                        "type": "contourcarpet"
                      }
                    ],
                    "heatmap": [
                      {
                        "colorbar": {
                          "outlinewidth": 0,
                          "ticks": ""
                        },
                        "colorscale": [
                          [
                            0,
                            "#0d0887"
                          ],
                          [
                            0.1111111111111111,
                            "#46039f"
                          ],
                          [
                            0.2222222222222222,
                            "#7201a8"
                          ],
                          [
                            0.3333333333333333,
                            "#9c179e"
                          ],
                          [
                            0.4444444444444444,
                            "#bd3786"
                          ],
                          [
                            0.5555555555555556,
                            "#d8576b"
                          ],
                          [
                            0.6666666666666666,
                            "#ed7953"
                          ],
                          [
                            0.7777777777777778,
                            "#fb9f3a"
                          ],
                          [
                            0.8888888888888888,
                            "#fdca26"
                          ],
                          [
                            1,
                            "#f0f921"
                          ]
                        ],
                        "type": "heatmap"
                      }
                    ],
                    "heatmapgl": [
                      {
                        "colorbar": {
                          "outlinewidth": 0,
                          "ticks": ""
                        },
                        "colorscale": [
                          [
                            0,
                            "#0d0887"
                          ],
                          [
                            0.1111111111111111,
                            "#46039f"
                          ],
                          [
                            0.2222222222222222,
                            "#7201a8"
                          ],
                          [
                            0.3333333333333333,
                            "#9c179e"
                          ],
                          [
                            0.4444444444444444,
                            "#bd3786"
                          ],
                          [
                            0.5555555555555556,
                            "#d8576b"
                          ],
                          [
                            0.6666666666666666,
                            "#ed7953"
                          ],
                          [
                            0.7777777777777778,
                            "#fb9f3a"
                          ],
                          [
                            0.8888888888888888,
                            "#fdca26"
                          ],
                          [
                            1,
                            "#f0f921"
                          ]
                        ],
                        "type": "heatmapgl"
                      }
                    ],
                    "histogram": [
                      {
                        "marker": {
                          "pattern": {
                            "fillmode": "overlay",
                            "size": 10,
                            "solidity": 0.2
                          }
                        },
                        "type": "histogram"
                      }
                    ],
                    "histogram2d": [
                      {
                        "colorbar": {
                          "outlinewidth": 0,
                          "ticks": ""
                        },
                        "colorscale": [
                          [
                            0,
                            "#0d0887"
                          ],
                          [
                            0.1111111111111111,
                            "#46039f"
                          ],
                          [
                            0.2222222222222222,
                            "#7201a8"
                          ],
                          [
                            0.3333333333333333,
                            "#9c179e"
                          ],
                          [
                            0.4444444444444444,
                            "#bd3786"
                          ],
                          [
                            0.5555555555555556,
                            "#d8576b"
                          ],
                          [
                            0.6666666666666666,
                            "#ed7953"
                          ],
                          [
                            0.7777777777777778,
                            "#fb9f3a"
                          ],
                          [
                            0.8888888888888888,
                            "#fdca26"
                          ],
                          [
                            1,
                            "#f0f921"
                          ]
                        ],
                        "type": "histogram2d"
                      }
                    ],
                    "histogram2dcontour": [
                      {
                        "colorbar": {
                          "outlinewidth": 0,
                          "ticks": ""
                        },
                        "colorscale": [
                          [
                            0,
                            "#0d0887"
                          ],
                          [
                            0.1111111111111111,
                            "#46039f"
                          ],
                          [
                            0.2222222222222222,
                            "#7201a8"
                          ],
                          [
                            0.3333333333333333,
                            "#9c179e"
                          ],
                          [
                            0.4444444444444444,
                            "#bd3786"
                          ],
                          [
                            0.5555555555555556,
                            "#d8576b"
                          ],
                          [
                            0.6666666666666666,
                            "#ed7953"
                          ],
                          [
                            0.7777777777777778,
                            "#fb9f3a"
                          ],
                          [
                            0.8888888888888888,
                            "#fdca26"
                          ],
                          [
                            1,
                            "#f0f921"
                          ]
                        ],
                        "type": "histogram2dcontour"
                      }
                    ],
                    "mesh3d": [
                      {
                        "colorbar": {
                          "outlinewidth": 0,
                          "ticks": ""
                        },
                        "type": "mesh3d"
                      }
                    ],
                    "parcoords": [
                      {
                        "line": {
                          "colorbar": {
                            "outlinewidth": 0,
                            "ticks": ""
                          }
                        },
                        "type": "parcoords"
                      }
                    ],
                    "pie": [
                      {
                        "automargin": true,
                        "type": "pie"
                      }
                    ],
                    "scatter": [
                      {
                        "marker": {
                          "line": {
                            "color": "#283442"
                          }
                        },
                        "type": "scatter"
                      }
                    ],
                    "scatter3d": [
                      {
                        "line": {
                          "colorbar": {
                            "outlinewidth": 0,
                            "ticks": ""
                          }
                        },
                        "marker": {
                          "colorbar": {
                            "outlinewidth": 0,
                            "ticks": ""
                          }
                        },
                        "type": "scatter3d"
                      }
                    ],
                    "scattercarpet": [
                      {
                        "marker": {
                          "colorbar": {
                            "outlinewidth": 0,
                            "ticks": ""
                          }
                        },
                        "type": "scattercarpet"
                      }
                    ],
                    "scattergeo": [
                      {
                        "marker": {
                          "colorbar": {
                            "outlinewidth": 0,
                            "ticks": ""
                          }
                        },
                        "type": "scattergeo"
                      }
                    ],
                    "scattergl": [
                      {
                        "marker": {
                          "line": {
                            "color": "#283442"
                          }
                        },
                        "type": "scattergl"
                      }
                    ],
                    "scattermapbox": [
                      {
                        "marker": {
                          "colorbar": {
                            "outlinewidth": 0,
                            "ticks": ""
                          }
                        },
                        "type": "scattermapbox"
                      }
                    ],
                    "scatterpolar": [
                      {
                        "marker": {
                          "colorbar": {
                            "outlinewidth": 0,
                            "ticks": ""
                          }
                        },
                        "type": "scatterpolar"
                      }
                    ],
                    "scatterpolargl": [
                      {
                        "marker": {
                          "colorbar": {
                            "outlinewidth": 0,
                            "ticks": ""
                          }
                        },
                        "type": "scatterpolargl"
                      }
                    ],
                    "scatterternary": [
                      {
                        "marker": {
                          "colorbar": {
                            "outlinewidth": 0,
                            "ticks": ""
                          }
                        },
                        "type": "scatterternary"
                      }
                    ],
                    "surface": [
                      {
                        "colorbar": {
                          "outlinewidth": 0,
                          "ticks": ""
                        },
                        "colorscale": [
                          [
                            0,
                            "#0d0887"
                          ],
                          [
                            0.1111111111111111,
                            "#46039f"
                          ],
                          [
                            0.2222222222222222,
                            "#7201a8"
                          ],
                          [
                            0.3333333333333333,
                            "#9c179e"
                          ],
                          [
                            0.4444444444444444,
                            "#bd3786"
                          ],
                          [
                            0.5555555555555556,
                            "#d8576b"
                          ],
                          [
                            0.6666666666666666,
                            "#ed7953"
                          ],
                          [
                            0.7777777777777778,
                            "#fb9f3a"
                          ],
                          [
                            0.8888888888888888,
                            "#fdca26"
                          ],
                          [
                            1,
                            "#f0f921"
                          ]
                        ],
                        "type": "surface"
                      }
                    ],
                    "table": [
                      {
                        "cells": {
                          "fill": {
                            "color": "#506784"
                          },
                          "line": {
                            "color": "rgb(17,17,17)"
                          }
                        },
                        "header": {
                          "fill": {
                            "color": "#2a3f5f"
                          },
                          "line": {
                            "color": "rgb(17,17,17)"
                          }
                        },
                        "type": "table"
                      }
                    ]
                  },
                  "layout": {
                    "annotationdefaults": {
                      "arrowcolor": "#f2f5fa",
                      "arrowhead": 0,
                      "arrowwidth": 1
                    },
                    "autotypenumbers": "strict",
                    "coloraxis": {
                      "colorbar": {
                        "outlinewidth": 0,
                        "ticks": ""
                      }
                    },
                    "colorscale": {
                      "diverging": [
                        [
                          0,
                          "#8e0152"
                        ],
                        [
                          0.1,
                          "#c51b7d"
                        ],
                        [
                          0.2,
                          "#de77ae"
                        ],
                        [
                          0.3,
                          "#f1b6da"
                        ],
                        [
                          0.4,
                          "#fde0ef"
                        ],
                        [
                          0.5,
                          "#f7f7f7"
                        ],
                        [
                          0.6,
                          "#e6f5d0"
                        ],
                        [
                          0.7,
                          "#b8e186"
                        ],
                        [
                          0.8,
                          "#7fbc41"
                        ],
                        [
                          0.9,
                          "#4d9221"
                        ],
                        [
                          1,
                          "#276419"
                        ]
                      ],
                      "sequential": [
                        [
                          0,
                          "#0d0887"
                        ],
                        [
                          0.1111111111111111,
                          "#46039f"
                        ],
                        [
                          0.2222222222222222,
                          "#7201a8"
                        ],
                        [
                          0.3333333333333333,
                          "#9c179e"
                        ],
                        [
                          0.4444444444444444,
                          "#bd3786"
                        ],
                        [
                          0.5555555555555556,
                          "#d8576b"
                        ],
                        [
                          0.6666666666666666,
                          "#ed7953"
                        ],
                        [
                          0.7777777777777778,
                          "#fb9f3a"
                        ],
                        [
                          0.8888888888888888,
                          "#fdca26"
                        ],
                        [
                          1,
                          "#f0f921"
                        ]
                      ],
                      "sequentialminus": [
                        [
                          0,
                          "#0d0887"
                        ],
                        [
                          0.1111111111111111,
                          "#46039f"
                        ],
                        [
                          0.2222222222222222,
                          "#7201a8"
                        ],
                        [
                          0.3333333333333333,
                          "#9c179e"
                        ],
                        [
                          0.4444444444444444,
                          "#bd3786"
                        ],
                        [
                          0.5555555555555556,
                          "#d8576b"
                        ],
                        [
                          0.6666666666666666,
                          "#ed7953"
                        ],
                        [
                          0.7777777777777778,
                          "#fb9f3a"
                        ],
                        [
                          0.8888888888888888,
                          "#fdca26"
                        ],
                        [
                          1,
                          "#f0f921"
                        ]
                      ]
                    },
                    "colorway": [
                      "#636efa",
                      "#EF553B",
                      "#00cc96",
                      "#ab63fa",
                      "#FFA15A",
                      "#19d3f3",
                      "#FF6692",
                      "#B6E880",
                      "#FF97FF",
                      "#FECB52"
                    ],
                    "font": {
                      "color": "#f2f5fa"
                    },
                    "geo": {
                      "bgcolor": "rgb(17,17,17)",
                      "lakecolor": "rgb(17,17,17)",
                      "landcolor": "rgb(17,17,17)",
                      "showlakes": true,
                      "showland": true,
                      "subunitcolor": "#506784"
                    },
                    "hoverlabel": {
                      "align": "left"
                    },
                    "hovermode": "closest",
                    "mapbox": {
                      "style": "dark"
                    },
                    "paper_bgcolor": "rgb(17,17,17)",
                    "plot_bgcolor": "rgb(17,17,17)",
                    "polar": {
                      "angularaxis": {
                        "gridcolor": "#506784",
                        "linecolor": "#506784",
                        "ticks": ""
                      },
                      "bgcolor": "rgb(17,17,17)",
                      "radialaxis": {
                        "gridcolor": "#506784",
                        "linecolor": "#506784",
                        "ticks": ""
                      }
                    },
                    "scene": {
                      "xaxis": {
                        "backgroundcolor": "rgb(17,17,17)",
                        "gridcolor": "#506784",
                        "gridwidth": 2,
                        "linecolor": "#506784",
                        "showbackground": true,
                        "ticks": "",
                        "zerolinecolor": "#C8D4E3"
                      },
                      "yaxis": {
                        "backgroundcolor": "rgb(17,17,17)",
                        "gridcolor": "#506784",
                        "gridwidth": 2,
                        "linecolor": "#506784",
                        "showbackground": true,
                        "ticks": "",
                        "zerolinecolor": "#C8D4E3"
                      },
                      "zaxis": {
                        "backgroundcolor": "rgb(17,17,17)",
                        "gridcolor": "#506784",
                        "gridwidth": 2,
                        "linecolor": "#506784",
                        "showbackground": true,
                        "ticks": "",
                        "zerolinecolor": "#C8D4E3"
                      }
                    },
                    "shapedefaults": {
                      "line": {
                        "color": "#f2f5fa"
                      }
                    },
                    "sliderdefaults": {
                      "bgcolor": "#C8D4E3",
                      "bordercolor": "rgb(17,17,17)",
                      "borderwidth": 1,
                      "tickwidth": 0
                    },
                    "ternary": {
                      "aaxis": {
                        "gridcolor": "#506784",
                        "linecolor": "#506784",
                        "ticks": ""
                      },
                      "baxis": {
                        "gridcolor": "#506784",
                        "linecolor": "#506784",
                        "ticks": ""
                      },
                      "bgcolor": "rgb(17,17,17)",
                      "caxis": {
                        "gridcolor": "#506784",
                        "linecolor": "#506784",
                        "ticks": ""
                      }
                    },
                    "title": {
                      "x": 0.05
                    },
                    "updatemenudefaults": {
                      "bgcolor": "#506784",
                      "borderwidth": 0
                    },
                    "xaxis": {
                      "automargin": true,
                      "gridcolor": "#283442",
                      "linecolor": "#506784",
                      "ticks": "",
                      "title": {
                        "standoff": 15
                      },
                      "zerolinecolor": "#283442",
                      "zerolinewidth": 2
                    },
                    "yaxis": {
                      "automargin": true,
                      "gridcolor": "#283442",
                      "linecolor": "#506784",
                      "ticks": "",
                      "title": {
                        "standoff": 15
                      },
                      "zerolinecolor": "#283442",
                      "zerolinewidth": 2
                    }
                  }
                },
                "title": {
                  "text": "Sentence Length Distribution"
                },
                "width": 800,
                "xaxis": {
                  "anchor": "y",
                  "domain": [
                    0,
                    1
                  ],
                  "title": {
                    "text": "Number of Words"
                  }
                },
                "yaxis": {
                  "anchor": "x",
                  "domain": [
                    0,
                    1
                  ],
                  "title": {
                    "text": "Count"
                  }
                }
              }
            }
          },
          "metadata": {},
          "output_type": "display_data"
        }
      ],
      "source": [
        "import pandas as pd\n",
        "import plotly.express as px\n",
        "\n",
        "# Assuming you have a DataFrame named 'dataset' containing the data\n",
        "\n",
        "# Calculate the count of each value in the 'Num_words' column\n",
        "plot_df = dataset.Num_words.value_counts().rename_axis('Num_words').reset_index(name='counts')\n",
        "\n",
        "# Configure the color, appearance, and shape of the bars\n",
        "fig = px.bar(plot_df, x=\"Num_words\", y=\"counts\", color=\"counts\",\n",
        "             title=\"Sentence Length Distribution\",\n",
        "             color_continuous_scale='viridis',  # Set the color scale\n",
        "             template='plotly_dark',  # Set the plot template\n",
        "             hover_data={'Num_words': True, 'counts': True},  # Include additional hover data\n",
        "             labels={'Num_words': 'Number of Words', 'counts': 'Count'},  # Update axis labels\n",
        "             width=800, height=500)  # Set the plot size\n",
        "\n",
        "# Update the bar shapes\n",
        "fig.update_traces(marker=dict(line=dict(width=1, color='DarkSlateGrey')))  # Update the bar line color and width\n",
        "\n",
        "# Show the updated bar plot\n",
        "fig.show()\n"
      ]
    },
    {
      "cell_type": "markdown",
      "metadata": {
        "id": "xTybGDrhfM_O"
      },
      "source": [
        "This graph shows the distribution of sentence lengths in a dataset. The x-axis represents the number of words in a sentence, and the y-axis represents the count of sentences with that length. Each bar represents a specific sentence length, with the height indicating the number of sentences. The color of the bars represents the count, with darker colors indicating higher counts. This visualization helps understand the variation and patterns in sentence lengths within the dataset. The plot uses Plotly Express with a dark template and includes hover data for interactive exploration. The updated bar shapes have dark slate grey lines for better visibility."
      ]
    },
    {
      "cell_type": "markdown",
      "metadata": {
        "id": "A9HKcYSp5eI1"
      },
      "source": [
        "## Downloaded file is included because they are not being viewed unless re-run every time opening the file. Please view \"Plot-2.png\" file. "
      ]
    },
    {
      "cell_type": "code",
      "execution_count": 11,
      "metadata": {
        "id": "eBCIwNxW5eI1"
      },
      "outputs": [],
      "source": [
        "post = dataset['post'].values\n",
        "label = dataset['labels'].values"
      ]
    },
    {
      "cell_type": "code",
      "execution_count": 12,
      "metadata": {
        "colab": {
          "base_uri": "https://localhost:8080/",
          "height": 428
        },
        "id": "EHp0cGtmI1UW",
        "outputId": "3964cd1c-b97f-4009-93fe-1bf98767a646"
      },
      "outputs": [
        {
          "data": {
            "image/png": "[encoded data removed]",
            "text/plain": [
              "<Figure size 640x480 with 1 Axes>"
            ]
          },
          "metadata": {},
          "output_type": "display_data"
        }
      ],
      "source": [
        "import pandas as pd\n",
        "import matplotlib.pyplot as plt\n",
        "\n",
        "# Assuming you have a DataFrame named 'dataset' containing the data\n",
        "\n",
        "# Count the occurrences of each label\n",
        "label_counts = dataset['labels'].value_counts()\n",
        "\n",
        "# Define custom colors\n",
        "colors = ['#FF5733', '#FFC300', '#DAF7A6', '#C70039']  # Different custom colors\n",
        "\n",
        "# Create the pie chart\n",
        "plt.pie(label_counts, labels=label_counts.index, colors=colors, autopct='%1.1f%%',\n",
        "        startangle=90, wedgeprops={'edgecolor': 'white'})\n",
        "\n",
        "# Set the aspect ratio to be equal to create a circular pie chart\n",
        "plt.axis('equal')\n",
        "\n",
        "# Add a title and legend to the chart\n",
        "plt.title('Label Distribution')\n",
        "plt.legend(label_counts.index, loc='best')\n",
        "\n",
        "# Display the chart\n",
        "plt.show()"
      ]
    },
    {
      "cell_type": "markdown",
      "metadata": {
        "id": "cC4_pf0ve5Mu"
      },
      "source": [
        "This pie chart illustrates the distribution of labels in a dataset. Each slice represents a unique label, and its size corresponds to the proportion of occurrences for that label. Custom colors are used for visual distinction, and the percentage of occurrences is displayed on each slice. The chart is displayed in a circular shape with an equal aspect ratio. The title \"Label Distribution\" and a legend provide context and label mapping, respectively. This graph serves as a visual summary of the label distribution, enabling quick understanding of the relative frequencies of different labels in the dataset."
      ]
    },
    {
      "cell_type": "code",
      "execution_count": 13,
      "metadata": {
        "colab": {
          "base_uri": "https://localhost:8080/"
        },
        "id": "JsnYXny65eI2",
        "outputId": "c5f0b5b5-c42c-4f7d-af21-745603f84ad5"
      },
      "outputs": [
        {
          "name": "stdout",
          "output_type": "stream",
          "text": [
            "[[754, 707, 3360, 5255, 359, 7232, 4127, 3588, 4422, 6422]]\n"
          ]
        }
      ],
      "source": [
        "# Tokenize the sentences and encode them into sequence of integers\n",
        "vocab_size = 102000\n",
        "tokenizer = Tokenizer()\n",
        "tokenizer = Tokenizer(num_words=vocab_size, oov_token=\"unk\")\n",
        "tokenizer.fit_on_texts(post)\n",
        "\n",
        "print(str(tokenizer.texts_to_sequences(['እነዚህን ወሳኝ ጉዳዮችን የሚያስፈፅም አካል እንዲቋቋምና ክትትል እንዲደረግ በመግለጫው ጠይቀዋል'])))"
      ]
    },
    {
      "cell_type": "code",
      "execution_count": 14,
      "metadata": {
        "id": "k0szne60S-Ap"
      },
      "outputs": [],
      "source": [
        "# Padding to sentences having words less than 55\n",
        "data = np.array(tokenizer.texts_to_sequences(post), dtype=object)\n",
        "data = pad_sequences(data, padding='post', maxlen=max_length)"
      ]
    },
    {
      "cell_type": "markdown",
      "metadata": {
        "id": "M80vv6nR5eI4"
      },
      "source": [
        "# Train-validation-test split and encoding"
      ]
    },
    {
      "cell_type": "code",
      "execution_count": 16,
      "metadata": {
        "id": "g8OgxPCB5eI4"
      },
      "outputs": [],
      "source": [
        "x_train, x_test, y_train, y_test = train_test_split(data, label, test_size = 0.10, random_state = 42)\n",
        "x_train, x_valid, y_train, y_valid = train_test_split(x_train, y_train, test_size = 0.10, random_state = 42)\n",
        "\n",
        "le = LabelEncoder()\n",
        "\n",
        "train_labels = le.fit_transform(y_train)\n",
        "train_labels = np.asarray( tf.keras.utils.to_categorical(train_labels))\n",
        "\n",
        "valid_labels = le.transform(y_valid)\n",
        "valid_labels = np.asarray( tf.keras.utils.to_categorical(valid_labels))\n",
        "\n",
        "test_labels = le.transform(y_test)\n",
        "test_labels = np.asarray(tf.keras.utils.to_categorical(test_labels))\n",
        "list(le.classes_)\n",
        "\n",
        "train_ds = tf.data.Dataset.from_tensor_slices((x_train,train_labels))\n",
        "valid_ds = tf.data.Dataset.from_tensor_slices((x_valid,valid_labels))\n",
        "test_ds = tf.data.Dataset.from_tensor_slices((x_test,test_labels))"
      ]
    },
    {
      "cell_type": "code",
      "execution_count": 17,
      "metadata": {
        "colab": {
          "base_uri": "https://localhost:8080/"
        },
        "id": "uifdtEVB5eI5",
        "outputId": "37fd4fe1-628c-4073-c645-1725fbb260e0"
      },
      "outputs": [
        {
          "name": "stdout",
          "output_type": "stream",
          "text": [
            "23172\n",
            "2575\n",
            "2861\n"
          ]
        }
      ],
      "source": [
        "# Check the sizes of the train-validation and test data\n",
        "print(len(train_labels))\n",
        "print(len(valid_labels))\n",
        "print(len(test_labels))"
      ]
    },
    {
      "cell_type": "markdown",
      "metadata": {
        "id": "FGausnWD5eI6"
      },
      "source": [
        "# Model Building"
      ]
    },
    {
      "cell_type": "code",
      "execution_count": 30,
      "metadata": {
        "colab": {
          "base_uri": "https://localhost:8080/"
        },
        "id": "uC9pfCPV5eI6",
        "outputId": "7c48176c-f440-4515-89b3-bf5f6207cf19"
      },
      "outputs": [
        {
          "name": "stdout",
          "output_type": "stream",
          "text": [
            "Model: \"sequential_1\"\n",
            "_________________________________________________________________\n",
            " Layer (type)                Output Shape              Param #   \n",
            "=================================================================\n",
            " embedding_1 (Embedding)     (None, 55, 100)           10200100  \n",
            "                                                                 \n",
            " conv1d_1 (Conv1D)           (None, 53, 128)           38528     \n",
            "                                                                 \n",
            " global_max_pooling1d_1 (Gl  (None, 128)               0         \n",
            " obalMaxPooling1D)                                               \n",
            "                                                                 \n",
            " dropout_1 (Dropout)         (None, 128)               0         \n",
            "                                                                 \n",
            " dense_1 (Dense)             (None, 2)                 258       \n",
            "                                                                 \n",
            "=================================================================\n",
            "Total params: 10238886 (39.06 MB)\n",
            "Trainable params: 10238886 (39.06 MB)\n",
            "Non-trainable params: 0 (0.00 Byte)\n",
            "_________________________________________________________________\n"
          ]
        }
      ],
      "source": [
        "model = tf.keras.Sequential()\n",
        "model.add(Embedding(vocab_size +1, 100, input_length=max_length,\n",
        "                    embeddings_regularizer = regularizers.l2(0.0005)))\n",
        "model.add(Conv1D(128,3, activation='relu',\n",
        "                 kernel_regularizer = regularizers.l2(0.0005),\n",
        "                 bias_regularizer = regularizers.l2(0.0005)))\n",
        "model.add(GlobalMaxPooling1D())\n",
        "model.add(Dropout(0.5))\n",
        "model.add(Dense(2, activation='sigmoid',\n",
        "                kernel_regularizer=regularizers.l2(0.001),\n",
        "                bias_regularizer=regularizers.l2(0.001),))\n",
        "model.compile(loss='binary_crossentropy', optimizer='adam', metrics=['accuracy'])\n",
        "model.summary()"
      ]
    },
    {
      "cell_type": "markdown",
      "metadata": {
        "id": "iScnIUo75eI7"
      },
      "source": [
        "# Train the model"
      ]
    },
    {
      "cell_type": "code",
      "execution_count": 31,
      "metadata": {
        "colab": {
          "base_uri": "https://localhost:8080/"
        },
        "id": "kkB3OuT_5eI7",
        "outputId": "3e32c70c-d3bf-4f01-d4e9-2c140d445fbe"
      },
      "outputs": [
        {
          "name": "stdout",
          "output_type": "stream",
          "text": [
            "Epoch 1/10\n",
            "182/182 [==============================] - 11s 57ms/step - loss: 1.0720 - accuracy: 0.5668 - val_loss: 0.6918 - val_accuracy: 0.6179\n",
            "Epoch 2/10\n",
            "182/182 [==============================] - 11s 59ms/step - loss: 0.7026 - accuracy: 0.6329 - val_loss: 0.7080 - val_accuracy: 0.6450\n",
            "Epoch 3/10\n",
            "182/182 [==============================] - 10s 55ms/step - loss: 0.7033 - accuracy: 0.6706 - val_loss: 0.7330 - val_accuracy: 0.6509\n",
            "Epoch 4/10\n",
            "182/182 [==============================] - 11s 58ms/step - loss: 0.6961 - accuracy: 0.7131 - val_loss: 0.7671 - val_accuracy: 0.6544\n",
            "Epoch 5/10\n",
            "182/182 [==============================] - 11s 58ms/step - loss: 0.6730 - accuracy: 0.7650 - val_loss: 0.8188 - val_accuracy: 0.6629\n",
            "Epoch 6/10\n",
            "182/182 [==============================] - 11s 60ms/step - loss: 0.6381 - accuracy: 0.8212 - val_loss: 0.8758 - val_accuracy: 0.6586\n",
            "Epoch 7/10\n",
            "182/182 [==============================] - 11s 60ms/step - loss: 0.5957 - accuracy: 0.8657 - val_loss: 0.9380 - val_accuracy: 0.6722\n",
            "Epoch 8/10\n",
            "182/182 [==============================] - 10s 55ms/step - loss: 0.5499 - accuracy: 0.9024 - val_loss: 0.9814 - val_accuracy: 0.6734\n",
            "Epoch 9/10\n",
            "182/182 [==============================] - 11s 58ms/step - loss: 0.5162 - accuracy: 0.9221 - val_loss: 1.0016 - val_accuracy: 0.6668\n",
            "Epoch 10/10\n",
            "182/182 [==============================] - 12s 64ms/step - loss: 0.4978 - accuracy: 0.9333 - val_loss: 1.0092 - val_accuracy: 0.6742\n"
          ]
        }
      ],
      "source": [
        "history = model.fit(train_ds.shuffle(2000).batch(128), epochs= 10,\n",
        "                    validation_data=valid_ds.batch(128), verbose=1)"
      ]
    },
    {
      "cell_type": "markdown",
      "metadata": {
        "id": "oWjotRCm5eI8"
      },
      "source": [
        "# Test the model"
      ]
    },
    {
      "cell_type": "code",
      "execution_count": 32,
      "metadata": {
        "colab": {
          "base_uri": "https://localhost:8080/"
        },
        "id": "X2sKoT0-5eI9",
        "outputId": "4cda99af-83f6-417b-db3f-0d3836fc5b91"
      },
      "outputs": [
        {
          "name": "stdout",
          "output_type": "stream",
          "text": [
            "Generate predictions for test sets.\n",
            "90/90 [==============================] - 0s 2ms/step\n",
            "['Free' 'Free' 'Free' ... 'Hate' 'Free' 'Hate']\n"
          ]
        }
      ],
      "source": [
        "# A function to decode back the encoded labels\n",
        "def label_decode(le, one_hot_label):\n",
        "    return le.inverse_transform(one_hot_label)\n",
        "\n",
        "print(\"Generate predictions for test sets.\")\n",
        "predictions = model.predict(x_test).argmax(axis=1)\n",
        "predicted = label_decode(le, predictions)\n",
        "print(predicted)"
      ]
    },
    {
      "cell_type": "code",
      "execution_count": 33,
      "metadata": {
        "colab": {
          "base_uri": "https://localhost:8080/"
        },
        "id": "3ZLd1IdF5eI-",
        "outputId": "3a3f4f90-151e-4687-a8ff-8fc7fdb4cf9b"
      },
      "outputs": [
        {
          "data": {
            "text/plain": [
              "array(['Hate', 'Free', 'Hate', ..., 'Hate', 'Free', 'Hate'], dtype=object)"
            ]
          },
          "execution_count": 33,
          "metadata": {},
          "output_type": "execute_result"
        }
      ],
      "source": [
        "y_test"
      ]
    },
    {
      "cell_type": "markdown",
      "metadata": {
        "id": "lF23I9Xn5eI-"
      },
      "source": [
        "# Confusion Matrix and Classification Report"
      ]
    },
    {
      "cell_type": "code",
      "execution_count": 34,
      "metadata": {
        "colab": {
          "base_uri": "https://localhost:8080/",
          "height": 286
        },
        "id": "co2xRDRM5eI-",
        "outputId": "108cb3e8-3b12-49ac-df1e-807e8f89a4ec"
      },
      "outputs": [
        {
          "name": "stdout",
          "output_type": "stream",
          "text": [
            "              precision    recall  f1-score   support\n",
            "\n",
            "        Free       0.66      0.61      0.63      1388\n",
            "        Hate       0.66      0.71      0.68      1473\n",
            "\n",
            "    accuracy                           0.66      2861\n",
            "   macro avg       0.66      0.66      0.66      2861\n",
            "weighted avg       0.66      0.66      0.66      2861\n",
            "\n",
            "Confusion Matrix\n"
          ]
        },
        {
          "data": {
            "text/html": [
              "<div>\n",
              "<style scoped>\n",
              "    .dataframe tbody tr th:only-of-type {\n",
              "        vertical-align: middle;\n",
              "    }\n",
              "\n",
              "    .dataframe tbody tr th {\n",
              "        vertical-align: top;\n",
              "    }\n",
              "\n",
              "    .dataframe thead th {\n",
              "        text-align: right;\n",
              "    }\n",
              "</style>\n",
              "<table border=\"1\" class=\"dataframe\">\n",
              "  <thead>\n",
              "    <tr style=\"text-align: right;\">\n",
              "      <th></th>\n",
              "      <th>Hate</th>\n",
              "      <th>Free</th>\n",
              "    </tr>\n",
              "  </thead>\n",
              "  <tbody>\n",
              "    <tr>\n",
              "      <th>Hate</th>\n",
              "      <td>841</td>\n",
              "      <td>547</td>\n",
              "    </tr>\n",
              "    <tr>\n",
              "      <th>Free</th>\n",
              "      <td>430</td>\n",
              "      <td>1043</td>\n",
              "    </tr>\n",
              "  </tbody>\n",
              "</table>\n",
              "</div>"
            ],
            "text/plain": [
              "      Hate  Free\n",
              "Hate   841   547\n",
              "Free   430  1043"
            ]
          },
          "execution_count": 34,
          "metadata": {},
          "output_type": "execute_result"
        }
      ],
      "source": [
        "from sklearn.metrics import confusion_matrix, classification_report\n",
        "\n",
        "labels = ['Hate', 'Free']\n",
        "print(classification_report(y_test, predicted))\n",
        "print('Confusion Matrix')\n",
        "pd.DataFrame(confusion_matrix(y_test, predicted), index=labels, columns=labels)"
      ]
    },
    {
      "cell_type": "markdown",
      "metadata": {
        "id": "vqph9tHJ5eI_"
      },
      "source": [
        "# Loss and Accuracy curves"
      ]
    },
    {
      "cell_type": "code",
      "execution_count": 35,
      "metadata": {
        "colab": {
          "base_uri": "https://localhost:8080/",
          "height": 472
        },
        "id": "O_fABZv-OBb_",
        "outputId": "833a88d9-9371-4a21-c5db-babef5a7cf25"
      },
      "outputs": [
        {
          "data": {
            "image/png": "[encoded data removed]",
            "text/plain": [
              "<Figure size 640x480 with 1 Axes>"
            ]
          },
          "metadata": {},
          "output_type": "display_data"
        }
      ],
      "source": [
        "import matplotlib.pyplot as plt\n",
        "\n",
        "# Assuming you have the history object containing training and validation loss\n",
        "\n",
        "plt.plot(history.history['loss'], label='Training Loss', color='red', linestyle='--')\n",
        "plt.plot(history.history['val_loss'], label='Validation Loss', color='blue', linestyle=':')\n",
        "plt.title('Training and Validation Losses')\n",
        "plt.ylabel('Loss')\n",
        "plt.xlabel('Number of Epochs')\n",
        "plt.legend(loc='upper left')\n",
        "plt.show()"
      ]
    },
    {
      "cell_type": "markdown",
      "metadata": {
        "id": "VAjMknKHeQhc"
      },
      "source": [
        "This graph shows the training and validation losses during model training. The x-axis represents the number of epochs, and the y-axis represents the loss. The blue line represents the training loss, which decreases as the model learns from the training data. The orange line represents the validation loss, which measures the model's performance on unseen data. The goal is to minimize both losses. If the validation loss is high compared to the training loss, it indicates potential overfitting. This graph helps assess the model's progress and generalization ability."
      ]
    },
    {
      "cell_type": "markdown",
      "metadata": {
        "id": "cRhQmBM-eQKo"
      },
      "source": []
    },
    {
      "cell_type": "code",
      "execution_count": 36,
      "metadata": {
        "colab": {
          "base_uri": "https://localhost:8080/",
          "height": 472
        },
        "id": "2M0mWt9RZ0-v",
        "outputId": "198e50f5-192e-4bf7-c582-9c56ae0a8e5e"
      },
      "outputs": [
        {
          "data": {
            "image/png": "[encoded data removed]",
            "text/plain": [
              "<Figure size 640x480 with 1 Axes>"
            ]
          },
          "metadata": {},
          "output_type": "display_data"
        }
      ],
      "source": [
        "import matplotlib.pyplot as plt\n",
        "\n",
        "# Plotting training and validation accuracies as scatter plots\n",
        "plt.scatter(range(len(history.history['accuracy'])), history.history['accuracy'], color='blue', label='Train Acc')\n",
        "plt.scatter(range(len(history.history['val_accuracy'])), history.history['val_accuracy'], color='red', label='Val Acc')\n",
        "\n",
        "# Set the title, labels, and legend\n",
        "plt.title('Training and Validation Accuracies (Scatter)')\n",
        "plt.xlabel('Number of Epochs')\n",
        "plt.ylabel('Accuracy')\n",
        "plt.legend(loc='upper left')\n",
        "\n",
        "# Show the plot\n",
        "plt.show()"
      ]
    },
    {
      "cell_type": "markdown",
      "metadata": {
        "id": "VWabnS1Cd_DI"
      },
      "source": [
        "This graph depicts the training and validation accuracies of a machine learning model over various epochs. The blue line represents training accuracy, indicating how well the model performs on the training data, while the orange line represents validation accuracy, reflecting performance on unseen validation data. Comparing the two accuracies helps identify overfitting (a large gap between training and validation accuracies) or underfitting (both accuracies are low). This information guides adjustments to hyperparameters or regularization techniques to improve the model's performance."
      ]
    },
    {
      "cell_type": "markdown",
      "metadata": {
        "id": "pr0csOC65eJI"
      },
      "source": [
        "# End"
      ]
    },
    {
      "cell_type": "code",
      "execution_count": 38,
      "metadata": {},
      "outputs": [
        {
          "data": {
            "text/plain": [
              "['Hate_Speech_Detection.pkl']"
            ]
          },
          "execution_count": 38,
          "metadata": {},
          "output_type": "execute_result"
        }
      ],
      "source": [
        "import joblib \n",
        "\n",
        "joblib.dump({'model': model, 'tokenizer': tokenizer}, 'Hate_Speech_Detection.pkl')\n"
      ]
    }
  ],
  "metadata": {
    "colab": {
      "provenance": []
    },
    "kernelspec": {
      "display_name": "Python 3",
      "language": "python",
      "name": "python3"
    },
    "language_info": {
      "codemirror_mode": {
        "name": "ipython",
        "version": 3
      },
      "file_extension": ".py",
      "mimetype": "text/x-python",
      "name": "python",
      "nbconvert_exporter": "python",
      "pygments_lexer": "ipython3",
      "version": "3.9.6"
    }
  },
  "nbformat": 4,
  "nbformat_minor": 0
}
